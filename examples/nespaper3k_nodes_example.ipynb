{
 "cells": [
  {
   "cell_type": "markdown",
   "metadata": {},
   "source": [
    "Scraper node:"
   ]
  },
  {
   "cell_type": "code",
   "execution_count": 1,
   "metadata": {},
   "outputs": [
    {
     "name": "stderr",
     "output_type": "stream",
     "text": [
      "/Users/josepsmachine/miniforge3/envs/haystacky/lib/python3.8/site-packages/tqdm/auto.py:21: TqdmWarning: IProgress not found. Please update jupyter and ipywidgets. See https://ipywidgets.readthedocs.io/en/stable/user_install.html\n",
      "  from .autonotebook import tqdm as notebook_tqdm\n"
     ]
    }
   ],
   "source": [
    "#scraper node\n",
    "from nespaper3k_nodes import newspaper3k_scraper\n",
    "scraper = newspaper3k_scraper()\n",
    "\n",
    "#you can also provide a header for the request and a timeout for the page loading\n",
    "scraper = newspaper3k_scraper(\n",
    "    headers={'user-agent': 'Mozilla/5.0 (Macintosh; Intel Mac OS X 10.15; rv:78.0) Gecko/20100101 Firefox/78.0',\n",
    "            'Accept': 'text/html,application/xhtml+xml,application/xml;q=0.9,image/webp,*/*;q=0.8'},\n",
    "    request_timeout= 10)"
   ]
  },
  {
   "cell_type": "code",
   "execution_count": 2,
   "metadata": {},
   "outputs": [
    {
     "name": "stdout",
     "output_type": "stream",
     "text": [
      "\u001b[0;31mSignature:\u001b[0m\n",
      "\u001b[0mscraper\u001b[0m\u001b[0;34m.\u001b[0m\u001b[0mrun\u001b[0m\u001b[0;34m(\u001b[0m\u001b[0;34m\u001b[0m\n",
      "\u001b[0;34m\u001b[0m    \u001b[0mquery\u001b[0m\u001b[0;34m:\u001b[0m \u001b[0mstr\u001b[0m\u001b[0;34m,\u001b[0m\u001b[0;34m\u001b[0m\n",
      "\u001b[0;34m\u001b[0m    \u001b[0mlang\u001b[0m\u001b[0;34m:\u001b[0m \u001b[0mstr\u001b[0m \u001b[0;34m=\u001b[0m \u001b[0;32mNone\u001b[0m\u001b[0;34m,\u001b[0m\u001b[0;34m\u001b[0m\n",
      "\u001b[0;34m\u001b[0m    \u001b[0mmetadata\u001b[0m\u001b[0;34m:\u001b[0m \u001b[0mbool\u001b[0m \u001b[0;34m=\u001b[0m \u001b[0;32mFalse\u001b[0m\u001b[0;34m,\u001b[0m\u001b[0;34m\u001b[0m\n",
      "\u001b[0;34m\u001b[0m    \u001b[0mlinks\u001b[0m\u001b[0;34m:\u001b[0m \u001b[0mbool\u001b[0m \u001b[0;34m=\u001b[0m \u001b[0;32mFalse\u001b[0m\u001b[0;34m,\u001b[0m\u001b[0;34m\u001b[0m\n",
      "\u001b[0;34m\u001b[0m    \u001b[0mkeywords\u001b[0m\u001b[0;34m:\u001b[0m \u001b[0mbool\u001b[0m \u001b[0;34m=\u001b[0m \u001b[0;32mFalse\u001b[0m\u001b[0;34m,\u001b[0m\u001b[0;34m\u001b[0m\n",
      "\u001b[0;34m\u001b[0m    \u001b[0msummary\u001b[0m\u001b[0;34m:\u001b[0m \u001b[0mbool\u001b[0m \u001b[0;34m=\u001b[0m \u001b[0;32mFalse\u001b[0m\u001b[0;34m,\u001b[0m\u001b[0;34m\u001b[0m\n",
      "\u001b[0;34m\u001b[0m    \u001b[0mpath\u001b[0m\u001b[0;34m:\u001b[0m \u001b[0mstr\u001b[0m \u001b[0;34m=\u001b[0m \u001b[0;32mNone\u001b[0m\u001b[0;34m,\u001b[0m\u001b[0;34m\u001b[0m\n",
      "\u001b[0;34m\u001b[0m    \u001b[0mload\u001b[0m\u001b[0;34m:\u001b[0m \u001b[0mbool\u001b[0m \u001b[0;34m=\u001b[0m \u001b[0;32mFalse\u001b[0m\u001b[0;34m,\u001b[0m\u001b[0;34m\u001b[0m\n",
      "\u001b[0;34m\u001b[0m    \u001b[0mverbose_fails\u001b[0m\u001b[0;34m:\u001b[0m \u001b[0mbool\u001b[0m \u001b[0;34m=\u001b[0m \u001b[0;32mTrue\u001b[0m\u001b[0;34m,\u001b[0m\u001b[0;34m\u001b[0m\n",
      "\u001b[0;34m\u001b[0m\u001b[0;34m)\u001b[0m\u001b[0;34m\u001b[0m\u001b[0;34m\u001b[0m\u001b[0m\n",
      "\u001b[0;31mDocstring:\u001b[0m\n",
      ":param query: String containing the webpage to scrape.\n",
      ":param lang: (None by default) language to process the article with, if None autodetected.\n",
      "    Available languages are: (more info at https://newspaper.readthedocs.io/en/latest/)\n",
      "    input code      full name\n",
      "\n",
      "    ar              Arabic\n",
      "    ru              Russian\n",
      "    nl              Dutch\n",
      "    de              German\n",
      "    en              English\n",
      "    es              Spanish\n",
      "    fr              French\n",
      "    he              Hebrew\n",
      "    it              Italian\n",
      "    ko              Korean\n",
      "    no              Norwegian\n",
      "    fa              Persian\n",
      "    pl              Polish\n",
      "    pt              Portuguese\n",
      "    sv              Swedish\n",
      "    hu              Hungarian\n",
      "    fi              Finnish\n",
      "    da              Danish\n",
      "    zh              Chinese\n",
      "    id              Indonesian\n",
      "    vi              Vietnamese\n",
      "    sw              Swahili\n",
      "    tr              Turkish\n",
      "    el              Greek\n",
      "    uk              Ukrainian\n",
      "    bg              Bulgarian\n",
      "    hr              Croatian\n",
      "    ro              Romanian\n",
      "    sl              Slovenian\n",
      "    sr              Serbian\n",
      "    et              Estonian\n",
      "    ja              Japanese\n",
      "    be              Belarusian\n",
      "\n",
      ":param metadata: (False by default) Wether to get article metadata.\n",
      ":param links: (False by default) Wether to get links contained in the article.\n",
      ":param keywords: (False by default) Wether to save the detected article keywords as document metadata.\n",
      ":param summary: (False by default) Wether to summarize the document (through nespaper3k) and save it as document metadata.\n",
      ":param path: (None by default) Path where to store the downloaded article html, if None, not downloaded. Ignored if load=True\n",
      ":param load: (False by default) If true query should be a local path to an html file to scrape or a folder containing html files.\n",
      ":param verbose_fails (True by default) If true print fail of downloads and text extractions.\n",
      "\u001b[0;31mFile:\u001b[0m      ~/Documents/PROGRAMMING/Scraper-tourist-map/Agent_experiment/nespaper3k_nodes.py\n",
      "\u001b[0;31mType:\u001b[0m      method"
     ]
    }
   ],
   "source": [
    "#to run in standalone use run.\n",
    "scraper.run?"
   ]
  },
  {
   "cell_type": "code",
   "execution_count": 3,
   "metadata": {},
   "outputs": [
    {
     "name": "stdout",
     "output_type": "stream",
     "text": [
      "\u001b[0;31mSignature:\u001b[0m\n",
      "\u001b[0mscraper\u001b[0m\u001b[0;34m.\u001b[0m\u001b[0mrun_batch\u001b[0m\u001b[0;34m(\u001b[0m\u001b[0;34m\u001b[0m\n",
      "\u001b[0;34m\u001b[0m    \u001b[0mquery\u001b[0m\u001b[0;34m:\u001b[0m \u001b[0mlist\u001b[0m\u001b[0;34m,\u001b[0m\u001b[0;34m\u001b[0m\n",
      "\u001b[0;34m\u001b[0m    \u001b[0mlang\u001b[0m\u001b[0;34m:\u001b[0m \u001b[0mstr\u001b[0m \u001b[0;34m=\u001b[0m \u001b[0;32mNone\u001b[0m\u001b[0;34m,\u001b[0m\u001b[0;34m\u001b[0m\n",
      "\u001b[0;34m\u001b[0m    \u001b[0mmetadata\u001b[0m\u001b[0;34m:\u001b[0m \u001b[0mbool\u001b[0m \u001b[0;34m=\u001b[0m \u001b[0;32mFalse\u001b[0m\u001b[0;34m,\u001b[0m\u001b[0;34m\u001b[0m\n",
      "\u001b[0;34m\u001b[0m    \u001b[0mlinks\u001b[0m\u001b[0;34m:\u001b[0m \u001b[0mbool\u001b[0m \u001b[0;34m=\u001b[0m \u001b[0;32mFalse\u001b[0m\u001b[0;34m,\u001b[0m\u001b[0;34m\u001b[0m\n",
      "\u001b[0;34m\u001b[0m    \u001b[0mkeywords\u001b[0m\u001b[0;34m:\u001b[0m \u001b[0mbool\u001b[0m \u001b[0;34m=\u001b[0m \u001b[0;32mFalse\u001b[0m\u001b[0;34m,\u001b[0m\u001b[0;34m\u001b[0m\n",
      "\u001b[0;34m\u001b[0m    \u001b[0msummary\u001b[0m\u001b[0;34m:\u001b[0m \u001b[0mbool\u001b[0m \u001b[0;34m=\u001b[0m \u001b[0;32mFalse\u001b[0m\u001b[0;34m,\u001b[0m\u001b[0;34m\u001b[0m\n",
      "\u001b[0;34m\u001b[0m    \u001b[0mpath\u001b[0m\u001b[0;34m:\u001b[0m \u001b[0mstr\u001b[0m \u001b[0;34m=\u001b[0m \u001b[0;32mNone\u001b[0m\u001b[0;34m,\u001b[0m\u001b[0;34m\u001b[0m\n",
      "\u001b[0;34m\u001b[0m    \u001b[0mload\u001b[0m\u001b[0;34m:\u001b[0m \u001b[0mbool\u001b[0m \u001b[0;34m=\u001b[0m \u001b[0;32mFalse\u001b[0m\u001b[0;34m,\u001b[0m\u001b[0;34m\u001b[0m\n",
      "\u001b[0;34m\u001b[0m    \u001b[0mverbose_fails\u001b[0m\u001b[0;34m:\u001b[0m \u001b[0mbool\u001b[0m \u001b[0;34m=\u001b[0m \u001b[0;32mTrue\u001b[0m\u001b[0;34m,\u001b[0m\u001b[0;34m\u001b[0m\n",
      "\u001b[0;34m\u001b[0m\u001b[0;34m)\u001b[0m\u001b[0;34m\u001b[0m\u001b[0;34m\u001b[0m\u001b[0m\n",
      "\u001b[0;31mDocstring:\u001b[0m\n",
      ":param query: list of strings containing the webpages to scrape.\n",
      ":param lang: (None by default) language to process the article with, if None autodetected.\n",
      "    Available languages are: (more info at https://newspaper.readthedocs.io/en/latest/)\n",
      "    input code      full name\n",
      "\n",
      "    ar              Arabic\n",
      "    ru              Russian\n",
      "    nl              Dutch\n",
      "    de              German\n",
      "    en              English\n",
      "    es              Spanish\n",
      "    fr              French\n",
      "    he              Hebrew\n",
      "    it              Italian\n",
      "    ko              Korean\n",
      "    no              Norwegian\n",
      "    fa              Persian\n",
      "    pl              Polish\n",
      "    pt              Portuguese\n",
      "    sv              Swedish\n",
      "    hu              Hungarian\n",
      "    fi              Finnish\n",
      "    da              Danish\n",
      "    zh              Chinese\n",
      "    id              Indonesian\n",
      "    vi              Vietnamese\n",
      "    sw              Swahili\n",
      "    tr              Turkish\n",
      "    el              Greek\n",
      "    uk              Ukrainian\n",
      "    bg              Bulgarian\n",
      "    hr              Croatian\n",
      "    ro              Romanian\n",
      "    sl              Slovenian\n",
      "    sr              Serbian\n",
      "    et              Estonian\n",
      "    ja              Japanese\n",
      "    be              Belarusian\n",
      "\n",
      ":param metadata: (False by default) Wether to get article metadata.\n",
      ":param links: (False by default) Wether to get links contained in the article.\n",
      ":param keywords: (False by default) Wether to save the detected article keywords as document metadata.\n",
      ":param summary: (False by default) Wether to summarize the document (through nespaper3k) and save it as document metadata.\n",
      ":param path: (None by default) Path where to store the downloaded articles html, if None, not downloaded. Ignored if load=True\n",
      ":param load: (False by default) If true query should be a local path to an html file to scrape.\n",
      ":param verbose_fails (True by default) If true print fail of downloads and text extractions.\n",
      "\u001b[0;31mFile:\u001b[0m      ~/Documents/PROGRAMMING/Scraper-tourist-map/Agent_experiment/nespaper3k_nodes.py\n",
      "\u001b[0;31mType:\u001b[0m      method"
     ]
    }
   ],
   "source": [
    "# You can also use run_batch and provide a set of start urls\n",
    "scraper.run_batch?"
   ]
  },
  {
   "cell_type": "code",
   "execution_count": 4,
   "metadata": {},
   "outputs": [
    {
     "name": "stderr",
     "output_type": "stream",
     "text": [
      "Scraping: articles/https:__www.emb-norw...:  87%|████████▋ | 224/258 [01:22<00:45,  1.33s/it]"
     ]
    }
   ],
   "source": [
    "#you can save scraped articles's html in a folder like this:\n",
    "scraper.run(query=\"articles\",\n",
    "    metadata=True,\n",
    "    summary=True,\n",
    "    keywords=True,\n",
    "    load=True,\n",
    "    verbose_fails=False)"
   ]
  },
  {
   "cell_type": "code",
   "execution_count": 12,
   "metadata": {},
   "outputs": [
    {
     "data": {
      "text/plain": [
       "({'documents': [<Document: {'content': 'With glacier-hewn fjords and deep green forests to gaze upon, traveling around Norway is an arresting experience however you choose to do it.\\n\\nServed by a combination of state-wide, private and municipal companies, Norway’s transportation network is extensive and efficient. And although journeys can be long, services across the board are usually very comfortable. You can buy tickets for almost every trip online or via an app, often at a discount. A good place to start is the national public transport planner EnTur (also available as an app). It pulls together routes on all modes of transport in the country, though you’ll mostly have to purchase tickets directly from each service operator.\\n\\nScout new ways to explore the planet\\'s wildest places with our weekly newsletter delivered to your inbox.\\n\\nBoat is the most scenic way to travel\\n\\nFerries crossing the fjords take cars, foot passengers and cyclists – simply pay the attendant on board. There are more services in summer but even then there can be long lines to board.\\n\\nNorway’s famous Hurtigruten coastal ferry calls at 34 ports from Bergen to Kirkenes. The focus is on premium cruise packages, but it is possible to book individual legs – look for the \"port to port\" option on the website. Several ports, such as Geiranger, aren’t served at all during the low season.\\n\\nSome express boat crossings (Bodø to Svolvær, for example) can be very rough. If you suffer from seasickness, you may prefer to fly.\\n\\nEnjoy a scenic journey on Norway\\'s rail network © Time, Life, Enjoy... / Getty Images\\n\\nThe train network is reliable and includes sleeper routes\\n\\nRun by government-owned railway company Vy (formerly NSB), the country’s rail network links major cities such as Oslo, Bergen, Trondheim and Bodø. The system is reliable and trains in Norway have spacious carriages with plenty of room for luggage.\\n\\nSleeper trains run on some longer routes and offer a genuinely brilliant alternative to flying. Compartments are small but clean and comfortable – the only thing likely to keep you awake is the view.\\n\\nThe downside is that fares can be expensive. Tickets go on sale 90 days in advance and booking even a few days before traveling can get you a much cheaper fare. Check train timetables and book tickets on the Vy app or website, or buy from the multilingual ticket machines in stations. You can also pay on board using a credit or debit card.\\n\\nTip for traveling on the train network: You may hear discounted advance fares described as minipris tickets. This is the old NSB term and you won’t see it as an option when you purchase through Vy.\\n\\nBuses are the only option for travel in rural areas\\n\\nBuses in Norway are cheaper than trains and in more rural areas you’ll be reliant on them. The bus network is efficient, but there are far fewer services on weekends and outside of the high season (June to August).\\n\\nLong-distance routes are covered by state-owned Vy and private outfits including Nor-Way Bussekspress and Lavprisekspressen. Buying tickets in advance will guarantee you a seat, but you can usually turn up and pay on board.\\n\\nTip for traveling on bus routes with ferry crossings: Local buses are managed by each municipality and some routes involve ferry crossings. On long-distance routes the coach just rolls on and off again, but sometimes you need to get on the ferry as a foot passenger and pick up a different bus when you get off. Services generally link up, so buses wait for passengers to alight the ferry before departing.\\n\\nWith the cost of vehicle hire, toll roads, ferry crossings and fuel, driving becomes a very expensive way to travel in Norway © Johner Images / Getty Images\\n\\nDriving in Norway is expensive\\n\\nDriving undoubtedly offers the most flexibility if you’re planning to visit very remote places. You’re unlikely to need an international driving license for short stays (check with the Norwegian Public Roads Administration) but there are some things to bear in mind before you rush to hire a car.\\n\\nJourneys often involve negotiating fjords and ferries, so traveling even short distances will take much longer than you expect. Driving in Norway in winter can be daunting if you’re not used to ice and snow, and smaller roads can close altogether.\\n\\nCar hire is also expensive (though the rate drops for longer rental periods) and companies often charge more if you’re under 25. The price of fuel is high – even by Norwegian standards – and you’ll also need to factor in the cost of ferries and tolls. It can all add up to be a very pricey road trip.\\n\\nInternal flights link major cities in Norway © SimonSkafar / Getty Images\\n\\nDomestic flights are a faster way to get around\\n\\nIf you’re really short on time and have your heart set on visiting very disconnected cities, domestic flights are usually the most feasible way to travel. It can often be cheaper than taking the train, though the cost to the environment is something to consider.\\n\\nNorwegian and SAS serve the country’s main cities, while Widerøe hops to the smaller airports.\\n\\nPublic transportation in cities is easy to use\\n\\nLocal transport in Norway is handled by the local municipality, and each one has its own website or app for timetables and tickets. Some systems are flashier than others, but most are straightforward to use. Oslo’s is Ruter, Bergen’s is Skyss, and Trondheim uses AtB.\\n\\nOslo has an extensive transport network\\n\\nOslo’s easy-to-navigate public transportation system is coordinated by Ruter. It covers all metro (T-bane), bus, tram and ferry services in the city. Most attractions are in zones 1 and 2 (two-zone ticket: single/24hr/7 days 64/192/564kr). Download the Ruter app to plan your journey and buy tickets, or buy them from the self-service kiosks at stations and stops. Tickets are valid for any mode of transport on the Ruter network.\\n\\nThe T-bane has five color-coded lines, all of which stop at Nationaltheatret and Jernbanetorget (for the city\\'s main train station, Oslo S). Trams zip along six lines and all pass through Oslo S, while buses serve lots more of the city, including the museums at Bygdøy.\\n\\nTip for travel in Oslo: Buying an Oslo Pass (24/48/72hr 445/655/820kr) gives you free entry to most museums and includes free transport in zones 1 and 2.\\n\\nAccessible transportation in Norway\\n\\nProvision for travelers with disabilities in Norway is good, though not perfect. If you’re taking an intercity bus, train or boat, you may have to call ahead at least 24 hours in advance to book assistance for your journey.\\n\\nLocal buses are almost always wheelchair-accessible and newer long-distance coaches have wheelchair lifts. T-bane stations in Oslo have lifts or ramps to access the platform, though there’s often a gap between the platform and the train. All trams in Bergen are wheelchair accessible, but trams on some lines in Oslo (lines 11, 12 and 19) are not.\\n\\nMetro, tram, and bus stops in larger cities have digital displays of upcoming services. The next stop is announced when on board and assistance dogs are generally welcome.\\n\\nFind out more on our accessible travel resource page.', 'content_type': 'text', 'score': None, 'meta': {'url': 'articles/https:__www.lonelyplanet.com_articles_getting-around-norway.html', 'source_url': '://', 'authors': [], 'publish_date': None, 'movies_url': ['https://www.youtube.com/embed/2uzlfzrMu0E'], 'top_image_url': 'https://lp-cms-production.imgix.net/2022-08/Norway-Oleh_Slobodeniuk-GettyImages-1213921192-RFC.jpg?w=600&h=400', 'article_keywords': ['ferry', 'oslo', 'train', 'routes', 'youre', 'network', 'getting', 'services', 'norway', 'tickets', 'transport'], 'summary': 'With glacier-hewn fjords and deep green forests to gaze upon, traveling around Norway is an arresting experience however you choose to do it.\\nThe system is reliable and trains in Norway have spacious carriages with plenty of room for luggage.\\nLong-distance routes are covered by state-owned Vy and private outfits including Nor-Way Bussekspress and Lavprisekspressen.\\nDriving in Norway in winter can be daunting if you’re not used to ice and snow, and smaller roads can close altogether.\\nIt covers all metro (T-bane), bus, tram and ferry services in the city.'}, 'id_hash_keys': ['content'], 'embedding': None, 'id': '73b8555938cfb3a11de575ef631fc5a5'}>]},\n",
       " 'output_1')"
      ]
     },
     "execution_count": 12,
     "metadata": {},
     "output_type": "execute_result"
    }
   ],
   "source": [
    "#can also scrape a local html file by having the query be the path of the file and load=True\n",
    "scraper.run(query=\"articles/https:__www.lonelyplanet.com_articles_getting-around-norway.html\",\n",
    "    metadata=True,\n",
    "    summary=True,\n",
    "    keywords=True,\n",
    "    load=True)"
   ]
  },
  {
   "cell_type": "code",
   "execution_count": 13,
   "metadata": {},
   "outputs": [
    {
     "name": "stderr",
     "output_type": "stream",
     "text": [
      "Preprocessing: 100%|██████████| 1/1 [00:00<00:00, 264.91docs/s]\n",
      "Extracting entities: 100%|██████████| 3/3 [00:00<00:00,  3.33it/s]\n",
      "Extracting entities: 100%|██████████| 2/2 [00:00<00:00,  3.32it/s]\n",
      "Extracting entities: 100%|██████████| 2/2 [00:01<00:00,  1.28it/s]\n",
      "10000it [00:00, 1241616.29it/s]      \n"
     ]
    },
    {
     "data": {
      "text/plain": [
       "{'documents': [<Document: {'content': 'Norway stretches north in a long, slender band from the Skagerrak, the choppy channel that separates the country from Denmark, its coastline battered and buffeted by the Atlantic as it juts up towards the Arctic Sea. Behind this rough and rocky coast are spectacular mountain ranges, harsh upland plateaux, plunging river valleys, rippling glaciers, deep forests and mighty fjords of unsurmounted beauty – an exhilarating landscape begging to be explored by car, boat or bike, on skis or even husky-drawn sled. Perhaps inevitably, the fjords are the apple of the tourist industry’s eye – with the infrastructure to prove it – though when well-heeled English and German gentlemen travellers arrived here in the late nineteenth century on the hunt for the Scandinavian exotic, Norwegians were so poor that you could hire a gillie or two for next to nothing. It is this stark contrast – between a severely impoverished past and an astoundingly wealthy present – that, for locals at least, remains a salient characteristic of life up here. Since the country happened upon vast oil and gas reserves under the Norwegian Sea in the 1960s, Norway has managed to assemble one of the most civilized, educated and tolerant societies in the world – one that its population maintains a deep loyalty for and pride in. Norway may have a clutch of attractive, cosmopolitan cities, appealing destinations in their own right, but where the country really shines is not in its urban culture, but rather in the low-key, amiable small-town feel that pervades throughout its settlements. This is not to say that Norway suffers from provincialism – Munch, Ibsen, Grieg and Amundsen, to name but four, were all Norwegians of international importance, to say nothing of the many millions of Norwegian descent today successfully making their way somewhere off in the greater world. But one thing is for certain: every Norwegian you will ever meet will at some point make their way back to this remarkable country, put on a pair of old hiking shoes and head off on foot for yonder mountain, reminding themselves how lucky they are to have one of the world’s most ravishing landscapes right at their back door. Where to go in Norway Though for the most part its people live in small towns and villages, Norway’s five largest cities are the obvious – and the most popular – initial targets for a visit. They begin with urbane, vivacious Oslo, one of the world’s most prettily sited capitals, with a flourishing café scene and a clutch of outstanding museums. Beyond Oslo, in roughly descending order of interest, are Trondheim, with its superb cathedral and charming, antique centre; the beguiling port of Bergen, gateway to the western fjords; gritty, bustling Stavanger in the southwest; and northern Tromsø. All are likeable, walkable cities worthy of time in themselves, as well as being within comfortable reach of some startlingly handsome scenery. Indeed, each can serve as a starting point for further explorations or as a weekend destination in their own right. And wherever you arrive, the trains, buses and ferries of Norway’s finely tuned public transport system will take you almost anywhere you want to go, although services are curtailed in winter.\\n\\nOutside of the cities, the perennial draw remains the western fjords – a must, and every bit as scenically stunning as the publicity suggests. Dip into the region from Bergen or Ålesund, both accessible by public transport from Oslo, or take more time to appreciate the subtle charms of the tiny, fjordside villages, among which Balestrand, Lofthus, Loen, Flåm, Ulvik and Mundal are especially appealing. This is great hiking country too, with a network of cairned trails and lodges (maintained by the nationwide hiking association DNT) threading along the valleys and over the hills. However, many of the country’s finest hikes are to be had further inland, within the confines of a trio of marvellous national parks: the Hardangervidda, a vast mountain plateau of lunar-like appearance; the Rondane, with its bulging mountains; and the Jotunheimen, famous for its jagged peaks. Nudging the Skagerrak, the south coast is different again. The climate is more hospitable, the landscape gentler and the coast is sprinkled with hundreds of little islands. Every summer, holidaying Norwegians sail down here to explore every nautical nook and cranny, popping into a string of pretty, pint-sized ports, the most inviting being Arendal and Mandal, the latter the proud possessor of the country’s finest sandy beach. Hiking remains the most popular summer pastime in Norway, but there are alternatives galore, from whitewater rafting – for example at Voss – sea-kayaking at Flåm, and guided glacier walks on the Jostedalsbreen. In winter, it’s all change when the Norwegians take to cross-country skiing in their droves, shooting off across the Hardangervidda mountain plateau, for example, from Finse, though some prefer Alpine skiing and snowboarding at specialist ski resorts like Geilo and Oslo’s Holmenkollen. Away to the north, beyond Trondheim, Norway grows increasingly wild and austere – two traits that make it perfect for off-the-beaten-track adventurers – as it humps and lumps across the Arctic Circle on the way to the modern, workaday port of Bodø. From here, ferries shuttle over to the rugged Lofoten islands, which hold some of the most ravishing scenery in the whole of Europe – tiny fishing villages of ochre- and red-painted houses tucked in between the swell of the deep blue sea and the severest of grey-green mountains. Back on the mainland, it’s a long haul north from Bodø to the iron-ore town of Narvik, and on to Tromsø, a delightful little city huddled on an island and with plenty of Arctic charm. These towns are, however, merely the froth of a vast wilderness that extends up to Nordkapp (North Cape), one of the northernmost points of mainland Europe, and the spot where the principal tourist trail peters out. Yet Norway continues east for several hundred kilometres, round to remote Kirkenes near the Russian border, while inland stretches an immense and hostile upland plateau, the Finnmarksvidda, one of the last haunts of the Sámi reindeer-herders. And finally, a short flight away, there is the wondrous chill of Svalbard, rising remote in the Arctic seas, islands of rolling glaciers and ice-glazed mountains where the snowmobile or Zodiac is more useful than a car. Top image © Mumemories/Shutterstock Discover more places in Norway\\n\\nFact file • Norway’s population numbers just under 5 million, of whom 600,000 or so live in Oslo, the capital. ', 'content_type': 'text', 'score': None, 'meta': {'url': 'https://www.roughguides.com/norway/', 'source_url': 'https://www.roughguides.com', 'authors': [], 'publish_date': None, 'movies_url': [], 'top_image_url': 'https://deih43ym53wif.cloudfront.net/northern-lights-skagsanden-beach-lofoten-norway-shutterstock_1120772963_db36cd9e1b.jpeg', 'article_keywords': ['oslo', 'arctic', 'norwegian', 'travel', 'norways', 'country', 'worlds', 'norway', 'places', 'norwegians', 'north', 'visit', 'mountain', 'guide'], 'summary': '• Norway has a surface area of 386,000 square kilometres, of which half is mountain and a further third forest, lake and river.\\n• Norway is a constitutional monarchy and the present king, Harald V, came to the throne in 1991.\\n• Norway is not a member of the EU, but has signed up to the EEA (European Economic Agreement) free-trade deal.\\n• The Lutheran Church of Norway is the official state church and over eighty percent of the population belong to it, however nominally.\\nTravel advice for Travel Guide Norway From travel safety to visa requirements, discover the best tips for traveling to Travel Guide NorwayThe Rough Guide to Norway and related travel guidesFind even more inspiration for Norway here', '_split_id': 0, 'entity_groups': ['LOC', 'LOC', 'LOC', 'LOC', 'LOC', 'MISC', 'MISC', 'MISC', 'MISC', 'LOC', 'LOC', 'LOC', 'LOC', 'PER', 'PER', 'LOC', 'LOC', 'MISC', 'MISC', 'LOC', 'LOC', 'LOC', 'LOC', 'LOC', 'LOC', 'LOC', 'LOC', 'LOC', 'LOC', 'LOC', 'LOC', 'LOC', 'LOC', 'LOC', 'LOC', 'LOC', 'LOC', 'ORG', 'LOC', 'LOC', 'LOC', 'MISC', 'LOC', 'LOC', 'LOC', 'ORG', 'MISC', 'LOC', 'LOC', 'MISC', 'LOC', 'LOC', 'LOC', 'LOC', 'LOC', 'LOC', 'LOC', 'LOC', 'LOC', 'LOC', 'LOC', 'LOC', 'MISC', 'LOC', 'LOC', 'LOC', 'LOC', 'LOC', 'MISC', 'LOC', 'LOC', 'LOC', 'LOC', 'LOC'], 'entity_scores': [0.9997463822364807, 0.9737313389778137, 0.999758780002594, 0.7669928669929504, 0.9756595492362976, 0.9993871450424194, 0.9993069171905518, 0.9995434880256653, 0.9969412684440613, 0.9895788431167603, 0.9997593760490417, 0.9997265934944153, 0.9997683167457581, 0.9343231916427612, 0.5612949728965759, 0.9561569690704346, 0.968359649181366, 0.9967881441116333, 0.999498724937439, 0.9995997548103333, 0.9992702603340149, 0.9994383454322815, 0.9994938373565674, 0.9987528324127197, 0.9991818070411682, 0.996926486492157, 0.9992780089378357, 0.999721348285675, 0.998730480670929, 0.9986812472343445, 0.9993021488189697, 0.9524663090705872, 0.9871000051498413, 0.988871157169342, 0.9927350282669067, 0.987784743309021, 0.9822806715965271, 0.9966855645179749, 0.9917435050010681, 0.8917374610900879, 0.8664610385894775, 0.6739653944969177, 0.9396336674690247, 0.9887047410011292, 0.9942453503608704, 0.6748177409172058, 0.9975247979164124, 0.9973377585411072, 0.969474732875824, 0.9965988993644714, 0.9897734522819519, 0.9996046423912048, 0.9958782196044922, 0.998915433883667, 0.9997480511665344, 0.9944275617599487, 0.997892439365387, 0.980329155921936, 0.9996063113212585, 0.9985608458518982, 0.9980868101119995, 0.9990378618240356, 0.9488599300384521, 0.9958986639976501, 0.9966285228729248, 0.9993534684181213, 0.9996747970581055, 0.9957154393196106, 0.9996845722198486, 0.9729111194610596, 0.5536789298057556, 0.9038147330284119, 0.96341872215271, 0.9975577592849731], 'entity_words': ['Norway', 'Skagerrak', 'Denmark', 'Atlantic', 'Arctic Sea', 'English', 'German', 'Scandinavian', 'Norwegians', 'Norwegian Sea', 'Norway', 'Norway', 'Norway', 'Munch', 'Ibsen', 'Grieg', 'Amundsen', 'Norwegians', 'Norwegian', 'Norway', 'Norway', 'Oslo', 'Oslo', 'Trondheim', 'Bergen', 'Stavanger', 'Tromsø', 'Norway', 'Bergen', 'Ålesund', 'Oslo', 'Balestrand', 'Lofthus', 'Loen', 'Flåm', 'Ulvik', 'Mundal', 'DNT', 'Hardangervidda', 'Rondane', 'Skagerrak', 'Norwegians', 'Norway', 'Voss', 'Flåm', 'Jostedalsbreen', 'Norwegians', 'Hardangervidda', 'Finse', 'Alpine', 'Geilo', 'Oslo', 'Holmenkollen', 'Trondheim', 'Norway', 'Arctic Circle', 'Bodø', 'Lofoten', 'Europe', 'Bodø', 'Narvik', 'Tromsø', 'Arctic', 'Nordkapp', 'North Cape', 'Europe', 'Norway', 'Kirkenes', 'Russian', 'Finnmarksvidda', 'Sámi', 'Norway', 'Norway', 'Oslo'], 'entity_starts': [0, 56, 118, 170, 205, 650, 662, 754, 775, 1104, 1132, 1304, 1590, 1626, 1633, 1640, 1650, 1687, 1766, 2198, 2275, 2408, 2537, 2588, 2677, 2733, 2774, 3100, 3404, 3414, 3464, 3565, 3577, 3586, 3592, 3598, 3608, 3768, 3959, 4029, 4128, 4314, 4596, 4680, 4703, 4741, 4793, 4874, 4925, 4951, 5013, 5023, 5030, 5070, 5081, 5230, 5287, 5339, 5418, 5623, 5652, 5670, 5743, 5840, 5850, 5906, 5977, 6047, 6065, 6147, 6193, 6496, 6516, 6596], 'entity_ends': [6, 65, 125, 178, 215, 657, 668, 766, 785, 1117, 1138, 1310, 1596, 1631, 1638, 1645, 1658, 1697, 1775, 2204, 2281, 2412, 2541, 2597, 2683, 2742, 2780, 3106, 3410, 3421, 3468, 3575, 3584, 3590, 3596, 3603, 3614, 3771, 3973, 4036, 4137, 4324, 4602, 4684, 4707, 4755, 4803, 4888, 4930, 4957, 5018, 5027, 5042, 5079, 5087, 5243, 5291, 5346, 5424, 5627, 5658, 5676, 5749, 5848, 5860, 5912, 5983, 6055, 6072, 6161, 6197, 6502, 6522, 6600]}, 'id_hash_keys': ['content'], 'embedding': None, 'id': 'fbdd2d6f83e10032cf30597b40ea841a'}>,\n",
       "  <Document: {'content': 'Bergen, Norway’s second city, clocks up about 250,000 residents, while around 40,000 indigenous Sámi (Lapps) live mostly in the north of the country. • Norway has a surface area of 386,000 square kilometres, of which half is mountain and a further third forest, lake and river. • Norway is a constitutional monarchy and the present king, Harald V, came to the throne in 1991. The parliament – the Storting – sits in Oslo, but many functions are devolved to a complex network of local authorities. • Forget the seafood – frozen pizza can lay claim to being Norway’s national dish: Norwegians eat over 20 million of them each year. • Norway is not a member of the EU, but has signed up to the EEA (European Economic Agreement) free-trade deal. • The Lutheran Church of Norway is the official state church and over eighty percent of the population belong to it, however nominally. Lutheran jokes are legion: one shipwrecked sailor to another “Don’t worry: I make 50,000kr a week and I tithe; my Lutheran Pastor will find us.” New Norwegian cuisine Upon tasting a piece of Norwegian flatbread, a Parisian woman in the mid-1800s described it as having “the shape and size of a plate, and the same consistency”. With images of dried mutton, potato dumplings, cabbage stew and lutefisk, Nordic food has rarely been anything to write home about. That all changed in 2010, when Copenhagen’s Noma was named the world’s top restaurant by a panel of 800 chefs and critics, sending the foodie world into shock and turning tastebuds towards Scandinavian kitchens. Even before this time, though, Norway had begun to reinvent its culinary identity, with new foodie movements, celebrity chefs and a series of government initiatives, such as the Arctic Menu Scheme and Taste of the Coast–aimed at supporting local food producers, preserving local farming traditions and championing the rich heritage of Norwegian ingredients. The country is now in the middle of a kitchen renaissance, returning to its long-standing local food traditions; once again, Norwegians are consulting their grandmothers’ recipe books. Given nearly 25,000 kilometres of rugged coastline, 150,000 lakes and some of the world’s best angling rivers, it is no surprise that a huge variety of locally caught fish and seafood predominate in Norwegian kitchens. Norway’s diverse landscape also provides habitat to a range of sheep, elk, reindeer and woodland fowl that graze on some of the greenest, most unpolluted grasses in the world, lending their meat a rich, succulent taste. And the country’s temperate summers allow plants to ripen at a slower pace than elsewhere, infusing fruits and vegetables with a supple flavour that you can taste the instant they hit your tastebuds.\\n\\nTravel advice for Travel Guide Norway From travel safety to visa requirements, discover the best tips for traveling to Travel Guide Norway\\n\\nThe Rough Guide to Norway and related travel guides\\n\\nFind even more inspiration for Norway here', 'content_type': 'text', 'score': None, 'meta': {'url': 'https://www.roughguides.com/norway/', 'source_url': 'https://www.roughguides.com', 'authors': [], 'publish_date': None, 'movies_url': [], 'top_image_url': 'https://deih43ym53wif.cloudfront.net/northern-lights-skagsanden-beach-lofoten-norway-shutterstock_1120772963_db36cd9e1b.jpeg', 'article_keywords': ['oslo', 'arctic', 'norwegian', 'travel', 'norways', 'country', 'worlds', 'norway', 'places', 'norwegians', 'north', 'visit', 'mountain', 'guide'], 'summary': '• Norway has a surface area of 386,000 square kilometres, of which half is mountain and a further third forest, lake and river.\\n• Norway is a constitutional monarchy and the present king, Harald V, came to the throne in 1991.\\n• Norway is not a member of the EU, but has signed up to the EEA (European Economic Agreement) free-trade deal.\\n• The Lutheran Church of Norway is the official state church and over eighty percent of the population belong to it, however nominally.\\nTravel advice for Travel Guide Norway From travel safety to visa requirements, discover the best tips for traveling to Travel Guide NorwayThe Rough Guide to Norway and related travel guidesFind even more inspiration for Norway here', '_split_id': 1, 'entity_groups': ['LOC', 'LOC', 'MISC', 'MISC', 'LOC', 'LOC', 'PER', 'ORG', 'LOC', 'LOC', 'MISC', 'LOC', 'ORG', 'ORG', 'MISC', 'ORG', 'MISC', 'ORG', 'MISC', 'MISC', 'MISC', 'MISC', 'MISC', 'LOC', 'ORG', 'MISC', 'LOC', 'MISC', 'LOC', 'ORG', 'ORG', 'MISC', 'MISC', 'LOC', 'LOC'], 'entity_scores': [0.9992386102676392, 0.9995817542076111, 0.9824673533439636, 0.3478735387325287, 0.9997356534004211, 0.9997052550315857, 0.8604868650436401, 0.9483177065849304, 0.999569833278656, 0.9997202754020691, 0.9977204203605652, 0.9997418522834778, 0.9978001713752747, 0.9949131011962891, 0.7188904285430908, 0.7289483547210693, 0.7851706743240356, 0.8339276909828186, 0.9937238097190857, 0.9735031127929688, 0.9991764426231384, 0.9993515610694885, 0.9995848536491394, 0.9996132254600525, 0.6110745668411255, 0.9994449019432068, 0.9997485280036926, 0.9996567964553833, 0.9996393918991089, 0.5597278475761414, 0.4799354076385498, 0.3644416034221649, 0.8088117241859436, 0.9974199533462524, 0.9991374015808105], 'entity_words': ['Bergen', 'Norway', 'Sámi', 'Lapps', 'Norway', 'Norway', 'Harald V', 'Storting', 'Oslo', 'Norway', 'Norwegians', 'Norway', 'EU', 'EEA', 'European', 'Economic', 'Agreement', 'Lutheran Church of Norway', 'Lutheran', 'Lutheran', 'Norwegian', 'Norwegian', 'Nordic', 'Copenhagen', 'Noma', 'Scandinavian', 'Norway', 'Norwegian', 'Norway', 'Travel Guide Norway', 'Travel Guide', 'Norway', 'Guide', 'Norway', 'Norway'], 'entity_starts': [0, 8, 96, 102, 152, 280, 338, 397, 416, 556, 580, 632, 662, 691, 696, 705, 714, 748, 878, 992, 1027, 1069, 1280, 1369, 1382, 1527, 1581, 2292, 2312, 2751, 2852, 2865, 2883, 2892, 2957], 'entity_ends': [6, 14, 100, 107, 158, 286, 346, 405, 420, 562, 590, 638, 664, 694, 704, 713, 723, 773, 886, 1000, 1036, 1078, 1286, 1379, 1386, 1539, 1587, 2301, 2318, 2770, 2864, 2871, 2888, 2898, 2963]}, 'id_hash_keys': ['content'], 'embedding': None, 'id': '98711e0e8dea989a46d48c0d94c61429'}>],\n",
       " 'root_node': 'File',\n",
       " 'params': {'scraper': {'metadata': True, 'summary': True, 'keywords': True}},\n",
       " 'query': 'https://www.roughguides.com/norway/',\n",
       " 'node_id': 'document_store'}"
      ]
     },
     "execution_count": 13,
     "metadata": {},
     "output_type": "execute_result"
    }
   ],
   "source": [
    "#example of using the scrape node in a pipeline.\n",
    "\n",
    "from qdrant_haystack.document_stores import QdrantDocumentStore\n",
    "from haystack.nodes import EntityExtractor\n",
    "from haystack.pipelines import Pipeline\n",
    "from haystack.nodes import PreProcessor\n",
    "\n",
    "document_store = QdrantDocumentStore(\n",
    "    \":memory:\",\n",
    "    index=\"Document\",\n",
    "    embedding_dim=768,\n",
    "    recreate_index=True,\n",
    ")\n",
    "\n",
    "entity_extractor = EntityExtractor(model_name_or_path=\"dslim/bert-base-NER\",flatten_entities_in_meta_data=True)\n",
    "\n",
    "processor = PreProcessor(\n",
    "    clean_empty_lines=False,\n",
    "    clean_whitespace=False,\n",
    "    clean_header_footer=False,\n",
    "    split_by=\"sentence\",\n",
    "    split_length=30,\n",
    "    split_respect_sentence_boundary=False,\n",
    "    split_overlap=0\n",
    ")\n",
    "\n",
    "indexing_pipeline = Pipeline()\n",
    "indexing_pipeline.add_node(component=scraper, name=\"scraper\", inputs=['File'])\n",
    "indexing_pipeline.add_node(component=processor, name=\"processor\", inputs=['scraper'])\n",
    "indexing_pipeline.add_node(entity_extractor, \"EntityExtractor\", [\"processor\"])\n",
    "indexing_pipeline.add_node(component=document_store, name=\"document_store\", inputs=['EntityExtractor'])\n",
    "\n",
    "#we can pass the previously seen arguments also\n",
    "indexing_pipeline.run(query = \"https://www.roughguides.com/norway/\",\n",
    "    params={\n",
    "        \"scraper\":{\n",
    "            \"metadata\":True,\n",
    "            \"summary\":True,\n",
    "            \"keywords\":True\n",
    "        }\n",
    "    })"
   ]
  },
  {
   "cell_type": "markdown",
   "metadata": {},
   "source": [
    "crawler node:"
   ]
  },
  {
   "cell_type": "code",
   "execution_count": 14,
   "metadata": {},
   "outputs": [],
   "source": [
    "#The crawler node uses the scraper node to create documents from articles.\n",
    "from nespaper3k_nodes import newspaper3k_crawler\n",
    "\n",
    "crawler = newspaper3k_crawler(\n",
    "    headers={'user-agent': 'Mozilla/5.0 (Macintosh; Intel Mac OS X 10.15; rv:78.0) Gecko/20100101 Firefox/78.0',\n",
    "            'Accept': 'text/html,application/xhtml+xml,application/xml;q=0.9,image/webp,*/*;q=0.8'},\n",
    "    request_timeout= 10)"
   ]
  },
  {
   "cell_type": "code",
   "execution_count": 15,
   "metadata": {},
   "outputs": [
    {
     "name": "stdout",
     "output_type": "stream",
     "text": [
      "\u001b[0;31mSignature:\u001b[0m\n",
      "\u001b[0mcrawler\u001b[0m\u001b[0;34m.\u001b[0m\u001b[0mrun\u001b[0m\u001b[0;34m(\u001b[0m\u001b[0;34m\u001b[0m\n",
      "\u001b[0;34m\u001b[0m    \u001b[0mquery\u001b[0m\u001b[0;34m:\u001b[0m \u001b[0mstr\u001b[0m\u001b[0;34m,\u001b[0m\u001b[0;34m\u001b[0m\n",
      "\u001b[0;34m\u001b[0m    \u001b[0mn_articles\u001b[0m\u001b[0;34m:\u001b[0m \u001b[0mint\u001b[0m\u001b[0;34m,\u001b[0m\u001b[0;34m\u001b[0m\n",
      "\u001b[0;34m\u001b[0m    \u001b[0mbeam\u001b[0m\u001b[0;34m:\u001b[0m \u001b[0mint\u001b[0m \u001b[0;34m=\u001b[0m \u001b[0;36m0\u001b[0m\u001b[0;34m,\u001b[0m\u001b[0;34m\u001b[0m\n",
      "\u001b[0;34m\u001b[0m    \u001b[0mfilters\u001b[0m\u001b[0;34m:\u001b[0m \u001b[0mlist\u001b[0m \u001b[0;34m=\u001b[0m \u001b[0;32mNone\u001b[0m\u001b[0;34m,\u001b[0m\u001b[0;34m\u001b[0m\n",
      "\u001b[0;34m\u001b[0m    \u001b[0mkeep_links\u001b[0m\u001b[0;34m:\u001b[0m \u001b[0mbool\u001b[0m \u001b[0;34m=\u001b[0m \u001b[0;32mFalse\u001b[0m\u001b[0;34m,\u001b[0m\u001b[0;34m\u001b[0m\n",
      "\u001b[0;34m\u001b[0m    \u001b[0mlang\u001b[0m\u001b[0;34m:\u001b[0m \u001b[0mstr\u001b[0m \u001b[0;34m=\u001b[0m \u001b[0;32mNone\u001b[0m\u001b[0;34m,\u001b[0m\u001b[0;34m\u001b[0m\n",
      "\u001b[0;34m\u001b[0m    \u001b[0mmetadata\u001b[0m\u001b[0;34m:\u001b[0m \u001b[0mbool\u001b[0m \u001b[0;34m=\u001b[0m \u001b[0;32mFalse\u001b[0m\u001b[0;34m,\u001b[0m\u001b[0;34m\u001b[0m\n",
      "\u001b[0;34m\u001b[0m    \u001b[0mlinks\u001b[0m\u001b[0;34m:\u001b[0m \u001b[0mbool\u001b[0m \u001b[0;34m=\u001b[0m \u001b[0;32mFalse\u001b[0m\u001b[0;34m,\u001b[0m\u001b[0;34m\u001b[0m\n",
      "\u001b[0;34m\u001b[0m    \u001b[0mkeywords\u001b[0m\u001b[0;34m:\u001b[0m \u001b[0mbool\u001b[0m \u001b[0;34m=\u001b[0m \u001b[0;32mFalse\u001b[0m\u001b[0;34m,\u001b[0m\u001b[0;34m\u001b[0m\n",
      "\u001b[0;34m\u001b[0m    \u001b[0msummary\u001b[0m\u001b[0;34m:\u001b[0m \u001b[0mbool\u001b[0m \u001b[0;34m=\u001b[0m \u001b[0;32mFalse\u001b[0m\u001b[0;34m,\u001b[0m\u001b[0;34m\u001b[0m\n",
      "\u001b[0;34m\u001b[0m    \u001b[0mpath\u001b[0m\u001b[0;34m:\u001b[0m \u001b[0mstr\u001b[0m \u001b[0;34m=\u001b[0m \u001b[0;32mNone\u001b[0m\u001b[0;34m,\u001b[0m\u001b[0;34m\u001b[0m\n",
      "\u001b[0;34m\u001b[0m\u001b[0;34m)\u001b[0m\u001b[0;34m\u001b[0m\u001b[0;34m\u001b[0m\u001b[0m\n",
      "\u001b[0;31mDocstring:\u001b[0m\n",
      ":param query: initial url to start scraping\n",
      ":param n_articles: number of articles to scrape\n",
      ":param beam: number of articles from each scraped website to prioritize in the crawl queue.\n",
      "    If 0 then priority of scrape will be a simple continuous pile of found links after each scrape. (BFS). \n",
      "    If 1 then would be performing (DFS).\n",
      ":param filters: dictionary with lists of strings that the urls should contain or not. Keys: positive and negative.\n",
      "    Urls will be checked to contain at least one positive filter and none of the negatives.\n",
      "    e.g.\n",
      "    {positive: [\".com\",\".es\"],\n",
      "    negative: [\"facebook\",\"instagram\"]}\n",
      ":param keep_links: (False by default) Wether to keep the found links in each page as document metadata or not\n",
      "\n",
      ":param lang: (None by default) language to process the article with, if None autodetected.\n",
      "    Available languages are: (more info at https://newspaper.readthedocs.io/en/latest/)\n",
      "    input code      full name\n",
      "\n",
      "    ar              Arabic\n",
      "    ru              Russian\n",
      "    nl              Dutch\n",
      "    de              German\n",
      "    en              English\n",
      "    es              Spanish\n",
      "    fr              French\n",
      "    he              Hebrew\n",
      "    it              Italian\n",
      "    ko              Korean\n",
      "    no              Norwegian\n",
      "    fa              Persian\n",
      "    pl              Polish\n",
      "    pt              Portuguese\n",
      "    sv              Swedish\n",
      "    hu              Hungarian\n",
      "    fi              Finnish\n",
      "    da              Danish\n",
      "    zh              Chinese\n",
      "    id              Indonesian\n",
      "    vi              Vietnamese\n",
      "    sw              Swahili\n",
      "    tr              Turkish\n",
      "    el              Greek\n",
      "    uk              Ukrainian\n",
      "    bg              Bulgarian\n",
      "    hr              Croatian\n",
      "    ro              Romanian\n",
      "    sl              Slovenian\n",
      "    sr              Serbian\n",
      "    et              Estonian\n",
      "    ja              Japanese\n",
      "    be              Belarusian\n",
      "\n",
      ":param metadata: (False by default) Wether to get article metadata.\n",
      ":param keywords: (False by default) Wether to save the detected article keywords as document metadata.\n",
      ":param summary: (False by default) Wether to summarize the document (through nespaper3k) and save it as document metadata.\n",
      ":param path: (None by default) Path where to store the downloaded articles html, if None, not downloaded.\n",
      "\u001b[0;31mFile:\u001b[0m      ~/Documents/PROGRAMMING/Scraper-tourist-map/Agent_experiment/nespaper3k_nodes.py\n",
      "\u001b[0;31mType:\u001b[0m      method"
     ]
    }
   ],
   "source": [
    "#the main parameters to take into account are n_articles and beam. \n",
    "#n_articles will limit to how many articles to scrape.\n",
    "#The beam value will determine how many articles from a webpage should be scraped before \n",
    "#continuing to scrape webpages found in \"deeper\" webpages. \n",
    "#0 will result in Breadth first search, exhausting all links to visit per page and \n",
    "#1 will only follow (theorically until no dead end is reached) 1 link per scraped article (basically performing Depth first search)\n",
    "#>1 any number greater than one would be performing some type of \"bread first beam search\".\n",
    "crawler.run?"
   ]
  },
  {
   "cell_type": "code",
   "execution_count": 16,
   "metadata": {},
   "outputs": [
    {
     "name": "stderr",
     "output_type": "stream",
     "text": [
      "Crawling http://norway.ie?lang=en: 100%|██████████| 10/10 [00:08<00:00,  1.14it/s]                                        \n"
     ]
    }
   ],
   "source": [
    "#in standalone\n",
    "#the filter parameter will make sure that all links contain at least \n",
    "# one string of the positive list and none of the negative.\n",
    "docs = crawler.run(\n",
    "    query = \"https://www.roughguides.com/norway/ \",\n",
    "    n_articles = 10,\n",
    "    beam = 5,\n",
    "    filters = {\n",
    "        \"positive\":[\"norway\"],\n",
    "        \"negative\":[\"facebook\",\"instagram\"]\n",
    "    },\n",
    "    keep_links = False,\n",
    "    metadata=True,\n",
    "    summary=True,\n",
    "    keywords=True,\n",
    "    path = \"articles\")"
   ]
  },
  {
   "cell_type": "code",
   "execution_count": null,
   "metadata": {},
   "outputs": [],
   "source": [
    "#example of using the crawler node in a pipeline.\n",
    "\n",
    "from qdrant_haystack.document_stores import QdrantDocumentStore\n",
    "from haystack.nodes import EntityExtractor\n",
    "from haystack.pipelines import Pipeline\n",
    "from haystack.nodes import PreProcessor\n",
    "\n",
    "document_store = QdrantDocumentStore(\n",
    "    \":memory:\",\n",
    "    index=\"Document\",\n",
    "    embedding_dim=768,\n",
    "    recreate_index=True,\n",
    ")\n",
    "\n",
    "entity_extractor = EntityExtractor(model_name_or_path=\"dslim/bert-base-NER\",flatten_entities_in_meta_data=True)\n",
    "\n",
    "processor = PreProcessor(\n",
    "    clean_empty_lines=False,\n",
    "    clean_whitespace=False,\n",
    "    clean_header_footer=False,\n",
    "    split_by=\"sentence\",\n",
    "    split_length=30,\n",
    "    split_respect_sentence_boundary=False,\n",
    "    split_overlap=0\n",
    ")\n",
    "\n",
    "indexing_pipeline = Pipeline()\n",
    "indexing_pipeline.add_node(component=crawler, name=\"crawler\", inputs=['File'])\n",
    "indexing_pipeline.add_node(component=processor, name=\"processor\", inputs=['crawler'])\n",
    "indexing_pipeline.add_node(entity_extractor, \"EntityExtractor\", [\"processor\"])\n",
    "indexing_pipeline.add_node(component=document_store, name=\"document_store\", inputs=['EntityExtractor'])\n",
    "\n",
    "#we can pass the previously seen arguments also\n",
    "indexing_pipeline.run(query = \"https://www.roughguides.com/norway/\",\n",
    "    params={\n",
    "        \"crawler\":{\n",
    "            \"n_articles\" : 500,\n",
    "            \"beam\" : 5,\n",
    "            \"filters\" : {\n",
    "                \"positive\":[\"norway\"],\n",
    "                \"negative\": [\"facebook\"]\n",
    "            },\n",
    "            \"keep_links\" : False,\n",
    "            \"metadata\":True,\n",
    "            \"summary\":True,\n",
    "            \"keywords\":True,\n",
    "            \"path\": \"articles\"\n",
    "        }\n",
    "    })"
   ]
  }
 ],
 "metadata": {
  "kernelspec": {
   "display_name": "Python 3.8.16 ('haystacky')",
   "language": "python",
   "name": "python3"
  },
  "language_info": {
   "codemirror_mode": {
    "name": "ipython",
    "version": 3
   },
   "file_extension": ".py",
   "mimetype": "text/x-python",
   "name": "python",
   "nbconvert_exporter": "python",
   "pygments_lexer": "ipython3",
   "version": "3.8.16"
  },
  "orig_nbformat": 4,
  "vscode": {
   "interpreter": {
    "hash": "1cb5c301d0c66283416bb440549b00ef7a4ee66a42d29290b91bf66b8f39d203"
   }
  }
 },
 "nbformat": 4,
 "nbformat_minor": 2
}
